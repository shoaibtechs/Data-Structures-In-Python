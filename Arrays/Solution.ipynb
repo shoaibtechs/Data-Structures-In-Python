{
 "cells": [
  {
   "cell_type": "markdown",
   "id": "68b50a9d",
   "metadata": {},
   "source": [
    "## 1"
   ]
  },
  {
   "cell_type": "code",
   "execution_count": 15,
   "id": "a5dfb8b1",
   "metadata": {
    "scrolled": true
   },
   "outputs": [
    {
     "name": "stdout",
     "output_type": "stream",
     "text": [
      "Extra Dollars spent:  150\n"
     ]
    }
   ],
   "source": [
    "expenses = [2200,2350,2600,2130,2190]\n",
    "\n",
    "print(\"Extra Dollars spent: \",expenses[1] -expenses[0])\n"
   ]
  },
  {
   "cell_type": "markdown",
   "id": "924cbc0e",
   "metadata": {},
   "source": [
    "## 2"
   ]
  },
  {
   "cell_type": "code",
   "execution_count": 16,
   "id": "2d15e484",
   "metadata": {},
   "outputs": [
    {
     "name": "stdout",
     "output_type": "stream",
     "text": [
      "total Expenses in first quarter  7150\n"
     ]
    }
   ],
   "source": [
    "print(\"total Expenses in first quarter \", sum(expenses[:3]) )"
   ]
  },
  {
   "cell_type": "markdown",
   "id": "f4e3df37",
   "metadata": {},
   "source": [
    "## 3"
   ]
  },
  {
   "cell_type": "code",
   "execution_count": 17,
   "id": "e29d377d",
   "metadata": {},
   "outputs": [
    {
     "name": "stdout",
     "output_type": "stream",
     "text": [
      "Did i spent 2000 ?  False\n"
     ]
    }
   ],
   "source": [
    "print(\"Did i spent 2000 ? \", 2000 in expenses  )"
   ]
  },
  {
   "cell_type": "markdown",
   "id": "51f1cb1c",
   "metadata": {},
   "source": [
    "## 4"
   ]
  },
  {
   "cell_type": "code",
   "execution_count": 14,
   "id": "305e2a68",
   "metadata": {},
   "outputs": [],
   "source": [
    "expenses.append(1980)"
   ]
  },
  {
   "cell_type": "markdown",
   "id": "dd961264",
   "metadata": {},
   "source": [
    "## 5"
   ]
  },
  {
   "cell_type": "code",
   "execution_count": 9,
   "id": "17140810",
   "metadata": {},
   "outputs": [],
   "source": [
    "expenses[3] = expenses[3]-200"
   ]
  },
  {
   "cell_type": "code",
   "execution_count": null,
   "id": "2bf85c15",
   "metadata": {},
   "outputs": [],
   "source": []
  },
  {
   "cell_type": "code",
   "execution_count": null,
   "id": "99ad8b05",
   "metadata": {},
   "outputs": [],
   "source": []
  }
 ],
 "metadata": {
  "kernelspec": {
   "display_name": "Python 3 (ipykernel)",
   "language": "python",
   "name": "python3"
  },
  "language_info": {
   "codemirror_mode": {
    "name": "ipython",
    "version": 3
   },
   "file_extension": ".py",
   "mimetype": "text/x-python",
   "name": "python",
   "nbconvert_exporter": "python",
   "pygments_lexer": "ipython3",
   "version": "3.9.12"
  }
 },
 "nbformat": 4,
 "nbformat_minor": 5
}
